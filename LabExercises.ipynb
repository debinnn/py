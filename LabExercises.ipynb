{
 "cells": [
  {
   "cell_type": "code",
   "execution_count": 4,
   "id": "c93f31b5",
   "metadata": {},
   "outputs": [
    {
     "name": "stdout",
     "output_type": "stream",
     "text": [
      "Sum of all the items of the list :  275 \n",
      "Multiply all the items :  20165655510 \n",
      "Largest number from the list :  99 \n",
      "Smallest number from the list :  3\n"
     ]
    }
   ],
   "source": [
    "lists = [98,11,13,3,15,17,19,99] #declaring the python datatype list named 'lists' with 8 elements\n",
    "\n",
    "sum_lists = 0 #initialising the sum value to 0\n",
    "mul_lists = 1 #initialising the product value to 0\n",
    "largest_num = lists[0] #initialising the largest value to first element i.e., 98\n",
    "smallest_num = lists[0] #initialising the smallest value to first element i.e., 98\n",
    "\n",
    "for i in lists: #for loop that runs for all the elements in the list 'lists'\n",
    "    sum_lists = sum_lists + i #adding the current element with sum and storing it in sum 'sum_lists'\n",
    "    mul_lists = mul_lists * i #multiplying the current element with product and storing it in product 'mul_lists'\n",
    "    if(i < smallest_num): #checking if there's any element lesser than the present smallest value\n",
    "        smallest_num = i #if true, assigning the element as the smallest value\n",
    "    elif(i > largest_num): #checking if there's any element greater than the present smalleest value\n",
    "        largest_num = i #if true, assigning the element as the largest value\n",
    "        \n",
    "print(\"Sum of all the items of the list : \",sum_lists,\"\\nMultiply all the items : \",mul_lists,\"\\nLargest number from the list : \",largest_num,\"\\nSmallest number from the list : \",smallest_num) #printing the output"
   ]
  },
  {
   "cell_type": "code",
   "execution_count": 7,
   "id": "d6c6617c",
   "metadata": {},
   "outputs": [
    {
     "name": "stdout",
     "output_type": "stream",
     "text": [
      "aba at index  2\n",
      "1221 at index  3\n"
     ]
    }
   ],
   "source": [
    "A = ['abc', 'xyz', 'aba', '1221'] #given string 'A'\n",
    "\n",
    "for i in range(len(A)): #for loops that runs for the length of A i.e., 4\n",
    "    string = A[i] #'string' stores the current element\n",
    "    if string[0] == string[-1]: #checking if the first and last characters of the current element are same\n",
    "        print(string,\"at index \",i) #printing the output"
   ]
  },
  {
   "cell_type": "code",
   "execution_count": 12,
   "id": "af6ef2e2",
   "metadata": {},
   "outputs": [
    {
     "name": "stdout",
     "output_type": "stream",
     "text": [
      "A\n",
      "AB\n",
      "ABC\n",
      "ABCD\n",
      "ABCDE\n"
     ]
    }
   ],
   "source": [
    "for i in range(1, 6): #for loop that runs from 1 to 5 (inclusive)\n",
    "    for j in range(65, 65 + i): #nested loop that runs from ASCII value 65 ('A') to 65 + i - 1\n",
    "        print(chr(j), end=\"\") #printing the character corresponding to ASCII value of j, without newline\n",
    "    print() #printing a newline"
   ]
  },
  {
   "cell_type": "code",
   "execution_count": 13,
   "id": "e4657505",
   "metadata": {},
   "outputs": [
    {
     "name": "stdout",
     "output_type": "stream",
     "text": [
      "*\n",
      "**\n",
      "***\n",
      "****\n",
      "*****\n"
     ]
    }
   ],
   "source": [
    "for i in range(1, 6): #for loop that runs from 1 to 5 (inclusive)\n",
    "    print('*' * i) # printing the output"
   ]
  },
  {
   "cell_type": "code",
   "execution_count": 14,
   "id": "a6fc3ec8",
   "metadata": {},
   "outputs": [
    {
     "name": "stdout",
     "output_type": "stream",
     "text": [
      "[{'colorName': 'Black', 'colorCode': '000000'}, {'colorName': 'Red', 'colorCode': 'FF0000'}, {'colorName': 'Maroon', 'colorCode': '800000'}, {'colorName': 'Yellow', 'colorCode': 'FFFF00'}]\n"
     ]
    }
   ],
   "source": [
    "ListColour= [[\"Black\", \"Red\", \"Maroon\", \"Yellow\"], [\"000000\", \"FF0000\",\"800000\", \"FFFF00\"]] #given list 'ListColour'\n",
    "new_list = [] #initialising an empty list 'new_list' to add the new dictionaries\n",
    "for i in range(len(ListColour[0])): #for loop that runs throuh the len of the first sub list i.e., 4\n",
    "    new_dict = {'colorName': ListColour[0][i], 'colorCode': ListColour[1][i]} #creating a new dictionary with colorName and colorCode\n",
    "    new_list.append(new_dict) #appending the new dictionary to the 'new_list'\n",
    "print(new_list) #priniting the output"
   ]
  },
  {
   "cell_type": "code",
   "execution_count": 2,
   "id": "59618530",
   "metadata": {},
   "outputs": [],
   "source": [
    "def sq_fun(n):\n",
    "    for i in range(1, n): #for loop that runs from 1 to n-1 (inclusive)\n",
    "        if i % 2 == 0: #checking for even numbers\n",
    "            print(\"Number : \",i,\" Square: \",i**2) #printing the output"
   ]
  },
  {
   "cell_type": "code",
   "execution_count": 3,
   "id": "6703cb82",
   "metadata": {},
   "outputs": [
    {
     "name": "stdout",
     "output_type": "stream",
     "text": [
      "Number :  2  Square:  4\n",
      "Number :  4  Square:  16\n",
      "Number :  6  Square:  36\n",
      "Number :  8  Square:  64\n",
      "Number :  10  Square:  100\n",
      "Number :  12  Square:  144\n",
      "Number :  14  Square:  196\n",
      "Number :  16  Square:  256\n",
      "Number :  18  Square:  324\n",
      "Number :  20  Square:  400\n",
      "Number :  22  Square:  484\n",
      "Number :  24  Square:  576\n",
      "Number :  26  Square:  676\n",
      "Number :  28  Square:  784\n",
      "Number :  30  Square:  900\n",
      "Number :  32  Square:  1024\n",
      "Number :  34  Square:  1156\n",
      "Number :  36  Square:  1296\n",
      "Number :  38  Square:  1444\n",
      "Number :  40  Square:  1600\n",
      "Number :  42  Square:  1764\n",
      "Number :  44  Square:  1936\n",
      "Number :  46  Square:  2116\n",
      "Number :  48  Square:  2304\n"
     ]
    }
   ],
   "source": [
    "sq_fun(50) #for 1 to 50"
   ]
  },
  {
   "cell_type": "code",
   "execution_count": 4,
   "id": "1c4b875f",
   "metadata": {},
   "outputs": [
    {
     "name": "stdout",
     "output_type": "stream",
     "text": [
      "Number :  2  Square:  4\n",
      "Number :  4  Square:  16\n",
      "Number :  6  Square:  36\n",
      "Number :  8  Square:  64\n",
      "Number :  10  Square:  100\n",
      "Number :  12  Square:  144\n",
      "Number :  14  Square:  196\n",
      "Number :  16  Square:  256\n",
      "Number :  18  Square:  324\n",
      "Number :  20  Square:  400\n",
      "Number :  22  Square:  484\n",
      "Number :  24  Square:  576\n",
      "Number :  26  Square:  676\n",
      "Number :  28  Square:  784\n",
      "Number :  30  Square:  900\n",
      "Number :  32  Square:  1024\n",
      "Number :  34  Square:  1156\n",
      "Number :  36  Square:  1296\n",
      "Number :  38  Square:  1444\n",
      "Number :  40  Square:  1600\n",
      "Number :  42  Square:  1764\n",
      "Number :  44  Square:  1936\n",
      "Number :  46  Square:  2116\n",
      "Number :  48  Square:  2304\n",
      "Number :  50  Square:  2500\n",
      "Number :  52  Square:  2704\n",
      "Number :  54  Square:  2916\n",
      "Number :  56  Square:  3136\n",
      "Number :  58  Square:  3364\n",
      "Number :  60  Square:  3600\n",
      "Number :  62  Square:  3844\n",
      "Number :  64  Square:  4096\n",
      "Number :  66  Square:  4356\n",
      "Number :  68  Square:  4624\n",
      "Number :  70  Square:  4900\n",
      "Number :  72  Square:  5184\n",
      "Number :  74  Square:  5476\n",
      "Number :  76  Square:  5776\n",
      "Number :  78  Square:  6084\n",
      "Number :  80  Square:  6400\n",
      "Number :  82  Square:  6724\n",
      "Number :  84  Square:  7056\n",
      "Number :  86  Square:  7396\n",
      "Number :  88  Square:  7744\n",
      "Number :  90  Square:  8100\n",
      "Number :  92  Square:  8464\n",
      "Number :  94  Square:  8836\n",
      "Number :  96  Square:  9216\n",
      "Number :  98  Square:  9604\n"
     ]
    }
   ],
   "source": [
    "sq_fun(100) #for 1 to 100"
   ]
  },
  {
   "cell_type": "code",
   "execution_count": 5,
   "id": "1b5fd075",
   "metadata": {},
   "outputs": [
    {
     "name": "stdout",
     "output_type": "stream",
     "text": [
      "Enter a 4-digit number : 1567\n",
      "Sum :  19 \n",
      "Reversed Number :  7651\n"
     ]
    }
   ],
   "source": [
    "n = int(input(\"Enter a 4-digit number : \")) #reading a 4-digit number from the user\n",
    "\n",
    "if 1000 <= n <= 9999: #checking if the number is a 4-digit number\n",
    "    sum_digits = 0 #initializing the sum value to 0\n",
    "    for digit in str(n): #for loop that runs over each character in the string representation of 'n'\n",
    "        sum_digits += int(digit) #converting the character to an integer and add it to the sum\n",
    "    reversed_num = \"\" #initializing a variable for reversed number\n",
    "    for digit in str(n)[::-1]: #for loop that runs over each character in the reversed string representation of 'n'\n",
    "        reversed_num += digit # appending the character to the reversed_num string\n",
    "    print(\"Sum : \", sum_digits,\"\\nReversed Number : \", reversed_num) #printing the output"
   ]
  },
  {
   "cell_type": "code",
   "execution_count": 12,
   "id": "4ef836c1",
   "metadata": {},
   "outputs": [
    {
     "name": "stdout",
     "output_type": "stream",
     "text": [
      "Enter the first side of the first triangle: 2\n",
      "Enter the second side of the first triangle: 3\n",
      "Enter the third side of the first triangle: 4\n",
      "Enter the first side of the second triangle: 3\n",
      "Enter the second side of the second triangle: 4\n",
      "Enter the third side of the second triangle: 6\n",
      "Area of the first triangle :  2.9047375096555625 \n",
      "Area of the second triangle :  5.332682251925386 \n",
      "Total area enclosed by both triangles :  8.237419761580949 \n",
      "First triangle's contribution to total area :  35.26271082121081 \n",
      "Second triangle's contribution to total area :  64.7372891787892\n"
     ]
    }
   ],
   "source": [
    "import math #importing math library\n",
    "\n",
    "def area_of_triangle(a, b, c): #defining a function named 'area_of_triangle'\n",
    "    s = (a + b + c) / 2 #semi-perimeter\n",
    "    area = math.sqrt(s * (s - a) * (s - b) * (s - c)) #calculating area\n",
    "    return area #returning area\n",
    "\n",
    "#input sides for the first triangle\n",
    "a1 = float(input(\"Enter the first side of the first triangle: \"))\n",
    "b1 = float(input(\"Enter the second side of the first triangle: \"))\n",
    "c1 = float(input(\"Enter the third side of the first triangle: \"))\n",
    "\n",
    "#input sides for the second triangle\n",
    "a2 = float(input(\"Enter the first side of the second triangle: \"))\n",
    "b2 = float(input(\"Enter the second side of the second triangle: \"))\n",
    "c2 = float(input(\"Enter the third side of the second triangle: \"))\n",
    "\n",
    "#calculating areas\n",
    "area1 = area_of_triangle(a1, b1, c1)\n",
    "area2 = area_of_triangle(a2, b2, c2)\n",
    "total_area = area1 + area2\n",
    "\n",
    "#calculating contributions\n",
    "contribution1 = (area1 / total_area) * 100\n",
    "contribution2 = (area2 / total_area) * 100\n",
    "\n",
    "print(\"Area of the first triangle : \",area1,\"\\nArea of the second triangle : \",area2,\"\\nTotal area enclosed by both triangles : \",total_area,\"\\nFirst triangle's contribution to total area : \",contribution1,\"\\nSecond triangle's contribution to total area : \",contribution2) #printing the output"
   ]
  },
  {
   "cell_type": "code",
   "execution_count": 13,
   "id": "5a9536e3",
   "metadata": {},
   "outputs": [
    {
     "name": "stdout",
     "output_type": "stream",
     "text": [
      "Name :  John Doe\n",
      "Age :  30\n",
      "Blood Group :  A+\n",
      "------------------------------\n",
      "Name :  Jane Smith\n",
      "Age :  25\n",
      "Blood Group :  B-\n",
      "------------------------------\n",
      "Name :  Emily Davis\n",
      "Age :  40\n",
      "Blood Group :  O+\n",
      "------------------------------\n",
      "Name :  Michael Brown\n",
      "Age :  35\n",
      "Blood Group :  AB-\n",
      "------------------------------\n",
      "Name :  William Johnson\n",
      "Age :  28\n",
      "Blood Group :  A-\n",
      "------------------------------\n",
      "Name :  Emma Wilson\n",
      "Age :  22\n",
      "Blood Group :  B+\n",
      "------------------------------\n",
      "Name :  Oliver Martinez\n",
      "Age :  33\n",
      "Blood Group :  O-\n",
      "------------------------------\n",
      "Name :  Sophia Anderson\n",
      "Age :  27\n",
      "Blood Group :  AB+\n",
      "------------------------------\n",
      "Name :  James Thomas\n",
      "Age :  45\n",
      "Blood Group :  A+\n",
      "------------------------------\n",
      "Name :  Isabella Lee\n",
      "Age :  38\n",
      "Blood Group :  B-\n",
      "------------------------------\n"
     ]
    }
   ],
   "source": [
    "people = [\n",
    "    {\"name\": \"John Doe\", \"age\": 30, \"blood_group\": \"A+\"},\n",
    "    {\"name\": \"Jane Smith\", \"age\": 25, \"blood_group\": \"B-\"},\n",
    "    {\"name\": \"Emily Davis\", \"age\": 40, \"blood_group\": \"O+\"},\n",
    "    {\"name\": \"Michael Brown\", \"age\": 35, \"blood_group\": \"AB-\"},\n",
    "    {\"name\": \"William Johnson\", \"age\": 28, \"blood_group\": \"A-\"},\n",
    "    {\"name\": \"Emma Wilson\", \"age\": 22, \"blood_group\": \"B+\"},\n",
    "    {\"name\": \"Oliver Martinez\", \"age\": 33, \"blood_group\": \"O-\"},\n",
    "    {\"name\": \"Sophia Anderson\", \"age\": 27, \"blood_group\": \"AB+\"},\n",
    "    {\"name\": \"James Thomas\", \"age\": 45, \"blood_group\": \"A+\"},\n",
    "    {\"name\": \"Isabella Lee\", \"age\": 38, \"blood_group\": \"B-\"}\n",
    "] #given list 'people'\n",
    "\n",
    "def print_people_info(people): #defining the function 'print_people_info'\n",
    "    for person in people: #for loop that runs for every element in 'people'\n",
    "        print(\"Name : \",person['name']) #printing the output\n",
    "        print(\"Age : \",person['age'])\n",
    "        print(\"Blood Group : \",person['blood_group'])\n",
    "        print(\"-\" * 30)\n",
    "\n",
    "print_people_info(people) #calling the function"
   ]
  },
  {
   "cell_type": "code",
   "execution_count": 16,
   "id": "9dae1a31",
   "metadata": {},
   "outputs": [
    {
     "name": "stdout",
     "output_type": "stream",
     "text": [
      "['n', 'n', 'p']\n"
     ]
    }
   ],
   "source": [
    "def extract_rear_elements(tuple_of_strings): #defining the function 'extract_rear_elements'\n",
    "    l = [] #initialising an empty list to store the last character\n",
    "    for string in tuple_of_strings: #foor loop that runs over the elements in the tuple\n",
    "        l.append(string[-1]) #append the list with the last character\n",
    "    return l #returning the last character list\n",
    "\n",
    "input_tuple = (\"python\", \"learn\", \"includehelp\") #given input tuple\n",
    "output_list = extract_rear_elements(input_tuple) #calling the function\n",
    "print(output_list) #printing the output"
   ]
  },
  {
   "cell_type": "code",
   "execution_count": 18,
   "id": "556d87f3",
   "metadata": {},
   "outputs": [
    {
     "name": "stdout",
     "output_type": "stream",
     "text": [
      "Enter the month name: March\n",
      "Enter the year: 2024\n",
      "Number of days in  March 2024  :  31\n"
     ]
    }
   ],
   "source": [
    "def days_in_month(month_name, year):\n",
    "    days_in_months = {\n",
    "        \"January\": 31,\n",
    "        \"February\": 29 if (year % 4 == 0 and year % 100 != 0) or (year % 400 == 0) else 28,\n",
    "        \"March\": 31,\n",
    "        \"April\": 30,\n",
    "        \"May\": 31,\n",
    "        \"June\": 30,\n",
    "        \"July\": 31,\n",
    "        \"August\": 31,\n",
    "        \"September\": 30,\n",
    "        \"October\": 31,\n",
    "        \"November\": 30,\n",
    "        \"December\": 31\n",
    "    } #dictionary containing days in each month and checking for leap year in February\n",
    "    month_name = month_name.strip().title() #standardizing month name\n",
    "    return days_in_months.get(month_name, None) #returning days if month is valid\n",
    "\n",
    "month_name = input(\"Enter the month name: \") #getting month from user\n",
    "year = int(input(\"Enter the year: \")) #getting year from user\n",
    "\n",
    "num_days = days_in_month(month_name, year) #calling the function\n",
    "\n",
    "if num_days is not None:\n",
    "    print(\"Number of days in \",month_name,year,\" : \",num_days) #printing the output\n",
    "else:\n",
    "    print(\"Invalid month name entered.\")"
   ]
  }
 ],
 "metadata": {
  "kernelspec": {
   "display_name": "Python 3 (ipykernel)",
   "language": "python",
   "name": "python3"
  },
  "language_info": {
   "codemirror_mode": {
    "name": "ipython",
    "version": 3
   },
   "file_extension": ".py",
   "mimetype": "text/x-python",
   "name": "python",
   "nbconvert_exporter": "python",
   "pygments_lexer": "ipython3",
   "version": "3.9.16"
  }
 },
 "nbformat": 4,
 "nbformat_minor": 5
}
